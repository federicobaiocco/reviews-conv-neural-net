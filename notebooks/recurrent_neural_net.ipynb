{
 "cells": [
  {
   "cell_type": "code",
   "execution_count": 1,
   "metadata": {},
   "outputs": [
    {
     "name": "stderr",
     "output_type": "stream",
     "text": [
      "unable to import 'smart_open.gcs', disabling that module\n"
     ]
    }
   ],
   "source": [
    "import os\n",
    "import sys\n",
    "import numpy as np\n",
    "import tensorflow.keras\n",
    "from tensorflow.keras.preprocessing.text import Tokenizer\n",
    "from tensorflow.keras.utils import to_categorical\n",
    "from tensorflow.keras.preprocessing.sequence import pad_sequences\n",
    "from tensorflow.keras.layers import Activation, LSTM, Input, Embedding,Dropout, Dense,SpatialDropout1D\n",
    "from tensorflow.keras.models import Model, Sequential\n",
    "from tensorflow.keras.callbacks import ModelCheckpoint\n",
    "from tensorflow.keras.optimizers import Adam\n",
    "import pandas as pd\n",
    "import re\n",
    "from gensim.models import KeyedVectors\n",
    "import spacy\n",
    "from spacy.lang.es.stop_words import STOP_WORDS\n",
    "import unicodedata"
   ]
  },
  {
   "cell_type": "markdown",
   "metadata": {},
   "source": [
    "This model makes use of pretrained word embeddings:\n",
    "\n",
    "Aitor Almeida, & Aritz Bilbao. (2018). Spanish 3B words Word2Vec Embeddings (Version 1.0) [Data set]. Zenodo. http://doi.org/10.5281/zenodo.1410403\n",
    "\n",
    "Can be downloaded from: https://zenodo.org/record/1410403#.XsSA8WhKg2w"
   ]
  },
  {
   "cell_type": "markdown",
   "metadata": {},
   "source": [
    "# Global variables"
   ]
  },
  {
   "cell_type": "code",
   "execution_count": 2,
   "metadata": {},
   "outputs": [],
   "source": [
    "TEST_SPLIT = 0.15\n",
    "DROPOUT = 0.5\n",
    "BATCH_SIZE = 32\n",
    "EPOCHS = 25\n",
    "LEARNING_RATE = 1e-3\n",
    "EARLY_STOPPING_PATIENCE = 3\n",
    "LSTM_UNITS = 128\n",
    "DENSE_UNITS = 32\n",
    "RECURRENT_DROPOUT=0.2\n",
    "SPATIAL_DROPOUT = 0.2"
   ]
  },
  {
   "cell_type": "markdown",
   "metadata": {},
   "source": [
    "# Stopwords and dicts"
   ]
  },
  {
   "cell_type": "code",
   "execution_count": 3,
   "metadata": {},
   "outputs": [],
   "source": [
    "insurance_company_names = ['sura','rivadavia','allianz','hdi','pelayo','verti','ocaso','iati','meridional','sancor','prudential', 'iunigo']\n",
    "transform_dict = {\n",
    "    'k':'que',\n",
    "    'q':'que',\n",
    "    'xq': 'por que',\n",
    "    'wsp':'whatsapp',\n",
    "    'wasap':'whatsapp',\n",
    "    'watsap':'whatsapp',\n",
    "    'hdp': 'hijo de puta',\n",
    "    'vergüenza' : 'verguenza',\n",
    "    'imbesil': 'imbecil',\n",
    "    'imbesiles': 'imbeciles'\n",
    "}\n",
    "non_important_words = ['seguro','seguros', 'hola', 'whatsapp']"
   ]
  },
  {
   "cell_type": "markdown",
   "metadata": {},
   "source": [
    "# Load de data"
   ]
  },
  {
   "cell_type": "code",
   "execution_count": 4,
   "metadata": {},
   "outputs": [],
   "source": [
    "approved_df = pd.read_csv('./data/all_approved.csv')\n",
    "disapproved_df = pd.read_csv('./data/all_disapproved.csv')"
   ]
  },
  {
   "cell_type": "markdown",
   "metadata": {},
   "source": [
    "# Preprocessing class"
   ]
  },
  {
   "cell_type": "code",
   "execution_count": 5,
   "metadata": {},
   "outputs": [],
   "source": [
    "class text_preprocessor():\n",
    "    \n",
    "    def __init__(self, test_split, pad_with = 'max_len'):\n",
    "        '''\n",
    "        Pad with can be: 'max_lenght', 'avg_lenght' or int number\n",
    "        ''' \n",
    "        if (pad_with not in ('max_len','avg_len')) and (type(pad_with) is not int):\n",
    "            raise Exception(\"ERROR: Pad with must be 'max_lenght', 'avg_lenght' or int type\")\n",
    "        self.tokenizer = Tokenizer()\n",
    "        self.test_split = test_split\n",
    "        self.pad_with = pad_with\n",
    "        self.pad_text_to = None\n",
    "        self.nlp = spacy.load('es_core_news_sm', disable=['ner','parser'])\n",
    "    \n",
    "    def fit_transform(self, approved_df, disapproved_df):\n",
    "        # Data Preparation\n",
    "        x_text, y = self.make_dataset(approved_df, disapproved_df)\n",
    "\n",
    "        # Build vocabulary\n",
    "        if self.pad_with == 'max_len':\n",
    "            max_text_lenght = max([len(x.split(\" \")) for x in x_text])\n",
    "            self.pad_text_to = max_text_lenght\n",
    "        elif self.pad_with == 'avg_len':\n",
    "            avg_text_lenght = int(np.mean([len(x.split(\" \")) for x in x_text]))\n",
    "            self.pad_text_to = avg_text_lenght\n",
    "        elif type(self.pad_with) is int:\n",
    "            self.pad_text_to = self.pad_with\n",
    "        else:\n",
    "            raise Exception(\"ERROR: Pad with must be 'max_lenght', 'avg_lenght' or int type\")\n",
    "        \n",
    "        self.tokenizer.fit_on_texts(x_text)\n",
    "        sequences =  self.tokenizer.texts_to_sequences(x_text)\n",
    "        word_index = self.tokenizer.word_index\n",
    "        vocab_size = len(word_index) + 1\n",
    "        print(\"Vocabulary Size : {}\".format(vocab_size))\n",
    "        x = pad_sequences(sequences, maxlen=self.pad_text_to) # Pad with 0.0 (default pad_sequences value)\n",
    "\n",
    "        # Shuffle data\n",
    "        np.random.seed(10)\n",
    "        shuffle_indices = np.random.permutation(np.arange(len(y)))\n",
    "        x_shuffled = x[shuffle_indices]\n",
    "        y_shuffled = y[shuffle_indices]\n",
    "\n",
    "        # Split train/test set\n",
    "        test_sample_index = -1 * int(self.test_split * float(len(y)))\n",
    "        x_train, x_test = x_shuffled[:test_sample_index], x_shuffled[test_sample_index:]\n",
    "        y_train, y_test = y_shuffled[:test_sample_index], y_shuffled[test_sample_index:]\n",
    "\n",
    "        del x, y, x_shuffled, y_shuffled\n",
    "\n",
    "        print(\"Train/Test split: {:d}/{:d}\".format(len(y_train), len(y_test)))\n",
    "        return x_train, y_train, vocab_size, word_index, x_test, y_test\n",
    "   \n",
    "    def transform(self, text):\n",
    "        stripped = [s.strip() for s in text]\n",
    "        clean = [self.clean_str(sent) for sent in stripped]\n",
    "        sequences = self.tokenizer.texts_to_sequences(clean)\n",
    "        x = pad_sequences(sequences, maxlen=self.pad_text_to)\n",
    "        return x\n",
    "    \n",
    "    def get_padded_text_len(self):\n",
    "        if self.pad_text_to is not None:\n",
    "            return self.pad_text_to\n",
    "        else:\n",
    "            raise Exception(\"ERROR: pad_text_to is not set. Must fit before get_padded_text_len\")\n",
    "        \n",
    "    def clean_str(self,string):\n",
    "        string = re.sub(r\"[^A-Za-z0-9(),!?\\'\\`]\", \" \", string)\n",
    "        string = re.sub(r\",\", \" , \", string)\n",
    "        string = re.sub(r\"!\", \" ! \", string)\n",
    "        string = re.sub(r\"\\(\", \" \\( \", string)\n",
    "        string = re.sub(r\"\\)\", \" \\) \", string)\n",
    "        string = re.sub(r\"\\?\", \" \\? \", string)\n",
    "        string = re.sub(r\"\\s{2,}\", \" \", string) #2 spaces\n",
    "        string = self.strip_accents(string)\n",
    "        #replace words according the transform_dict\n",
    "        string = ''.join(transform_dict[w.lower()] if w.lower() in transform_dict else w for w in re.split(r'(\\W+)', string))\n",
    "        #remove insurance company names and non important words\n",
    "        stop_words = insurance_company_names + non_important_words\n",
    "        string = ''.join(w.lower() if w.lower() not in stop_words else '' for w in re.split(r'(\\W+)', string))\n",
    "        \n",
    "        doc = self.nlp(string)\n",
    "        string = ' '.join([token.lemma_ for token in doc])\n",
    "        \n",
    "        return string.strip().lower()\n",
    "    \n",
    "    def strip_accents(self, text):\n",
    "\n",
    "        try:\n",
    "            text = unicode(text, 'utf-8')\n",
    "        except NameError: # unicode is a default on python 3\n",
    "            pass\n",
    "        text = unicodedata.normalize('NFD', text)\\\n",
    "               .encode('ascii', 'ignore')\\\n",
    "               .decode(\"utf-8\")\n",
    "        return str(text)\n",
    "\n",
    "    def make_dataset(self,approved_dataframe, disapproved_dataframe):\n",
    "        # Load data from files\n",
    "        approved_examples = approved_dataframe['text'].values\n",
    "        approved_examples = [s.strip() for s in approved_examples]\n",
    "\n",
    "        disapproved_examples = disapproved_dataframe['text'].values\n",
    "        disapproved_examples = [s.strip() for s in disapproved_examples]\n",
    "       \n",
    "        x_text = approved_examples + disapproved_examples\n",
    "        x_text = [self.clean_str(sent) for sent in x_text]\n",
    "        # labels\n",
    "        approved_labels = [[0, 1] for _ in approved_examples]\n",
    "        disapproved_labels = [[1, 0] for _ in disapproved_examples]\n",
    "        y = np.concatenate([approved_labels, disapproved_labels], 0)\n",
    "        return [x_text, y]"
   ]
  },
  {
   "cell_type": "code",
   "execution_count": 6,
   "metadata": {},
   "outputs": [],
   "source": [
    "processor = text_preprocessor(test_split = TEST_SPLIT, pad_with = 'max_len')"
   ]
  },
  {
   "cell_type": "code",
   "execution_count": 7,
   "metadata": {},
   "outputs": [
    {
     "name": "stdout",
     "output_type": "stream",
     "text": [
      "Vocabulary Size : 2747\n",
      "Train/Test split: 1717/303\n"
     ]
    }
   ],
   "source": [
    "x_train, y_train, vocab_size, word_index, x_test, y_test = processor.fit_transform(approved_df, disapproved_df)"
   ]
  },
  {
   "cell_type": "code",
   "execution_count": 8,
   "metadata": {},
   "outputs": [],
   "source": [
    "texts_fixed_len = processor.get_padded_text_len()"
   ]
  },
  {
   "cell_type": "code",
   "execution_count": 9,
   "metadata": {},
   "outputs": [
    {
     "name": "stdout",
     "output_type": "stream",
     "text": [
      "All texts will be padded with 95 words\n"
     ]
    }
   ],
   "source": [
    "print(\"All texts will be padded with {} words\".format(texts_fixed_len))"
   ]
  },
  {
   "cell_type": "markdown",
   "metadata": {},
   "source": [
    "# Pretrained word embeddings (spanish)"
   ]
  },
  {
   "cell_type": "markdown",
   "metadata": {},
   "source": [
    "Aitor Almeida, & Aritz Bilbao. (2018). Spanish 3B words Word2Vec Embeddings (Version 1.0) [Data set]. Zenodo. http://doi.org/10.5281/zenodo.1410403\n",
    "\n",
    "Can be downloaded from: https://zenodo.org/record/1410403#.XsSA8WhKg2w"
   ]
  },
  {
   "cell_type": "markdown",
   "metadata": {},
   "source": [
    "### Load pretrained embeddings"
   ]
  },
  {
   "cell_type": "code",
   "execution_count": 10,
   "metadata": {},
   "outputs": [],
   "source": [
    "wvec_fn = './embeddings/complete.kv'\n",
    "wvecs = KeyedVectors.load(wvec_fn, mmap='r')\n",
    "embeddings_vec_size = wvecs.vector_size\n",
    "embeddings_vocab_size = len(wvecs.vocab)"
   ]
  },
  {
   "cell_type": "code",
   "execution_count": 11,
   "metadata": {},
   "outputs": [],
   "source": [
    "embedding_matrix = np.zeros((len(word_index) + 1, embeddings_vec_size))\n",
    "for word, i in word_index.items():\n",
    "    try:\n",
    "        embedding_vector = wvecs.get_vector(word)\n",
    "        if embedding_vector is not None:\n",
    "            embedding_matrix[i] = embedding_vector\n",
    "    except:\n",
    "        pass # words that are not found in embeddings are filled with all 0"
   ]
  },
  {
   "cell_type": "markdown",
   "metadata": {},
   "source": [
    "# Recurrent Neural Network"
   ]
  },
  {
   "cell_type": "code",
   "execution_count": 12,
   "metadata": {},
   "outputs": [],
   "source": [
    "embedding_layer = Embedding(len(word_index) + 1,\n",
    "                            embeddings_vec_size,\n",
    "                            weights=[embedding_matrix],\n",
    "                            input_length=texts_fixed_len,\n",
    "                            trainable=False)"
   ]
  },
  {
   "cell_type": "code",
   "execution_count": 13,
   "metadata": {},
   "outputs": [],
   "source": [
    "inputs = Input(shape=(texts_fixed_len,), dtype='int32')"
   ]
  },
  {
   "cell_type": "code",
   "execution_count": 14,
   "metadata": {},
   "outputs": [],
   "source": [
    "embedding = embedding_layer(inputs)"
   ]
  },
  {
   "cell_type": "code",
   "execution_count": 15,
   "metadata": {},
   "outputs": [],
   "source": [
    "spatial_dropout = SpatialDropout1D(SPATIAL_DROPOUT)(embedding)"
   ]
  },
  {
   "cell_type": "code",
   "execution_count": 16,
   "metadata": {},
   "outputs": [],
   "source": [
    "lstm = LSTM(LSTM_UNITS, recurrent_dropout= RECURRENT_DROPOUT)(spatial_dropout)"
   ]
  },
  {
   "cell_type": "code",
   "execution_count": 17,
   "metadata": {},
   "outputs": [],
   "source": [
    "dropout = Dropout(DROPOUT)(lstm)\n",
    "dense = Dense(DENSE_UNITS, activation='relu')(dropout)\n",
    "dropout = Dropout(DROPOUT)(dense)"
   ]
  },
  {
   "cell_type": "code",
   "execution_count": 18,
   "metadata": {},
   "outputs": [],
   "source": [
    "output = Dense(units=2, activation='softmax')(dropout)"
   ]
  },
  {
   "cell_type": "markdown",
   "metadata": {},
   "source": [
    "#### Compile model"
   ]
  },
  {
   "cell_type": "code",
   "execution_count": 19,
   "metadata": {},
   "outputs": [],
   "source": [
    "model = Model(inputs=inputs, outputs=output)"
   ]
  },
  {
   "cell_type": "code",
   "execution_count": 20,
   "metadata": {},
   "outputs": [],
   "source": [
    "checkpoint = ModelCheckpoint('reviews-text-rnn.hdf5',\n",
    "                             monitor='val_acc', \n",
    "                             verbose=1, \n",
    "                             save_best_only=True, \n",
    "                             mode='auto')\n",
    "\n",
    "adam = Adam(lr=LEARNING_RATE)\n",
    "model.compile(optimizer=adam, loss='categorical_crossentropy', metrics=['accuracy'])"
   ]
  },
  {
   "cell_type": "markdown",
   "metadata": {},
   "source": [
    "#### Model summary"
   ]
  },
  {
   "cell_type": "code",
   "execution_count": 21,
   "metadata": {},
   "outputs": [
    {
     "name": "stdout",
     "output_type": "stream",
     "text": [
      "Model: \"model\"\n",
      "_________________________________________________________________\n",
      "Layer (type)                 Output Shape              Param #   \n",
      "=================================================================\n",
      "input_1 (InputLayer)         [(None, 95)]              0         \n",
      "_________________________________________________________________\n",
      "embedding (Embedding)        (None, 95, 400)           1098800   \n",
      "_________________________________________________________________\n",
      "spatial_dropout1d (SpatialDr (None, 95, 400)           0         \n",
      "_________________________________________________________________\n",
      "lstm (LSTM)                  (None, 128)               270848    \n",
      "_________________________________________________________________\n",
      "dropout (Dropout)            (None, 128)               0         \n",
      "_________________________________________________________________\n",
      "dense (Dense)                (None, 32)                4128      \n",
      "_________________________________________________________________\n",
      "dropout_1 (Dropout)          (None, 32)                0         \n",
      "_________________________________________________________________\n",
      "dense_1 (Dense)              (None, 2)                 66        \n",
      "=================================================================\n",
      "Total params: 1,373,842\n",
      "Trainable params: 275,042\n",
      "Non-trainable params: 1,098,800\n",
      "_________________________________________________________________\n"
     ]
    }
   ],
   "source": [
    "model.summary()"
   ]
  },
  {
   "cell_type": "code",
   "execution_count": 22,
   "metadata": {},
   "outputs": [
    {
     "data": {
      "image/png": "[encoded data removed]",
      "text/plain": [
       "<IPython.core.display.Image object>"
      ]
     },
     "execution_count": 22,
     "metadata": {},
     "output_type": "execute_result"
    }
   ],
   "source": [
    "from tensorflow.keras.utils import plot_model\n",
    "plot_model(model)"
   ]
  },
  {
   "cell_type": "markdown",
   "metadata": {},
   "source": [
    "#### Train the model"
   ]
  },
  {
   "cell_type": "code",
   "execution_count": 23,
   "metadata": {},
   "outputs": [
    {
     "name": "stdout",
     "output_type": "stream",
     "text": [
      "Train on 1717 samples, validate on 303 samples\n",
      "Epoch 1/25\n",
      "1696/1717 [============================>.] - ETA: 0s - loss: 0.6390 - accuracy: 0.6504WARNING:tensorflow:Can save best model only with val_acc available, skipping.\n",
      "1717/1717 [==============================] - 15s 9ms/sample - loss: 0.6405 - accuracy: 0.6488 - val_loss: 0.4143 - val_accuracy: 0.8350\n",
      "Epoch 2/25\n",
      "1696/1717 [============================>.] - ETA: 0s - loss: 0.4288 - accuracy: 0.8037WARNING:tensorflow:Can save best model only with val_acc available, skipping.\n",
      "1717/1717 [==============================] - 19s 11ms/sample - loss: 0.4275 - accuracy: 0.8031 - val_loss: 0.2785 - val_accuracy: 0.8911\n",
      "Epoch 3/25\n",
      "1696/1717 [============================>.] - ETA: 0s - loss: 0.2946 - accuracy: 0.8827WARNING:tensorflow:Can save best model only with val_acc available, skipping.\n",
      "1717/1717 [==============================] - 13s 7ms/sample - loss: 0.2936 - accuracy: 0.8835 - val_loss: 0.2397 - val_accuracy: 0.9142\n",
      "Epoch 4/25\n",
      "1696/1717 [============================>.] - ETA: 0s - loss: 0.2209 - accuracy: 0.9092WARNING:tensorflow:Can save best model only with val_acc available, skipping.\n",
      "1717/1717 [==============================] - 18s 11ms/sample - loss: 0.2209 - accuracy: 0.9097 - val_loss: 0.2195 - val_accuracy: 0.9208\n",
      "Epoch 5/25\n",
      "1696/1717 [============================>.] - ETA: 0s - loss: 0.1692 - accuracy: 0.9434WARNING:tensorflow:Can save best model only with val_acc available, skipping.\n",
      "1717/1717 [==============================] - 26s 15ms/sample - loss: 0.1698 - accuracy: 0.9435 - val_loss: 0.2102 - val_accuracy: 0.9208\n",
      "Epoch 6/25\n",
      "1696/1717 [============================>.] - ETA: 0s - loss: 0.1463 - accuracy: 0.9452WARNING:tensorflow:Can save best model only with val_acc available, skipping.\n",
      "1717/1717 [==============================] - 21s 13ms/sample - loss: 0.1476 - accuracy: 0.9447 - val_loss: 0.2310 - val_accuracy: 0.9208\n",
      "Epoch 7/25\n",
      "1696/1717 [============================>.] - ETA: 0s - loss: 0.1136 - accuracy: 0.9599WARNING:tensorflow:Can save best model only with val_acc available, skipping.\n",
      "1717/1717 [==============================] - 20s 12ms/sample - loss: 0.1133 - accuracy: 0.9598 - val_loss: 0.2177 - val_accuracy: 0.9307\n",
      "Epoch 8/25\n",
      "1696/1717 [============================>.] - ETA: 0s - loss: 0.0996 - accuracy: 0.9682WARNING:tensorflow:Can save best model only with val_acc available, skipping.\n",
      "1717/1717 [==============================] - 20s 12ms/sample - loss: 0.0994 - accuracy: 0.9680 - val_loss: 0.2092 - val_accuracy: 0.9340\n",
      "Epoch 9/25\n",
      "1696/1717 [============================>.] - ETA: 0s - loss: 0.2782 - accuracy: 0.9257WARNING:tensorflow:Can save best model only with val_acc available, skipping.\n",
      "1717/1717 [==============================] - 25s 15ms/sample - loss: 0.2753 - accuracy: 0.9266 - val_loss: 0.2197 - val_accuracy: 0.9307\n",
      "Epoch 10/25\n",
      "1696/1717 [============================>.] - ETA: 0s - loss: 0.0834 - accuracy: 0.9682WARNING:tensorflow:Can save best model only with val_acc available, skipping.\n",
      "1717/1717 [==============================] - 19s 11ms/sample - loss: 0.0842 - accuracy: 0.9680 - val_loss: 0.2328 - val_accuracy: 0.9406\n",
      "Epoch 11/25\n",
      "1696/1717 [============================>.] - ETA: 0s - loss: 0.1073 - accuracy: 0.9670WARNING:tensorflow:Can save best model only with val_acc available, skipping.\n",
      "1717/1717 [==============================] - 19s 11ms/sample - loss: 0.1072 - accuracy: 0.9668 - val_loss: 0.2166 - val_accuracy: 0.9373\n",
      "Wall time: 3min 36s\n"
     ]
    },
    {
     "data": {
      "text/plain": [
       "<tensorflow.python.keras.callbacks.History at 0x120a07c7388>"
      ]
     },
     "execution_count": 23,
     "metadata": {},
     "output_type": "execute_result"
    }
   ],
   "source": [
    "%%time\n",
    "model.fit(x_train, y_train, \n",
    "          batch_size=BATCH_SIZE, \n",
    "          epochs=EPOCHS, \n",
    "          verbose=1, \n",
    "          callbacks=[checkpoint, tensorflow.keras.callbacks.EarlyStopping(patience=EARLY_STOPPING_PATIENCE)], \n",
    "          validation_data=(x_test, y_test))"
   ]
  },
  {
   "cell_type": "markdown",
   "metadata": {},
   "source": [
    "# Evaluate"
   ]
  },
  {
   "cell_type": "code",
   "execution_count": 24,
   "metadata": {},
   "outputs": [
    {
     "name": "stdout",
     "output_type": "stream",
     "text": [
      "573/573 [==============================] - 1s 2ms/sample - loss: 0.2361 - accuracy: 0.9145\n",
      "Model evaluation for fold 0 [0.2361006658478765, 0.91448516]\n",
      "572/572 [==============================] - 2s 3ms/sample - loss: 0.4001 - accuracy: 0.8899\n",
      "Model evaluation for fold 1 [0.400080908272233, 0.88986015]\n",
      "572/572 [==============================] - 2s 3ms/sample - loss: 0.4441 - accuracy: 0.9021\n",
      "Model evaluation for fold 2 [0.44412357198608504, 0.9020979]\n"
     ]
    }
   ],
   "source": [
    "from sklearn.model_selection import KFold\n",
    " \n",
    "n_split=3\n",
    "\n",
    "X = np.vstack([x_train, x_test])\n",
    "Y = np.vstack([y_train, y_test])\n",
    "\n",
    "n_fold = 0\n",
    "for train_index,test_index in KFold(n_split).split(x_train):\n",
    "    k_x_train,k_x_test=X[train_index],X[test_index]\n",
    "    k_y_train,k_y_test=Y[train_index],Y[test_index]\n",
    "  \n",
    "    eval_model= tensorflow.keras.models.clone_model(model)\n",
    "    eval_model.compile(optimizer=adam, loss='categorical_crossentropy', metrics=['accuracy'])\n",
    "    eval_model.fit(k_x_train, k_y_train,epochs=EPOCHS,  verbose = 0)\n",
    "  \n",
    "    print(f'Model evaluation for fold {n_fold}',eval_model.evaluate(k_x_test,k_y_test))\n",
    "    n_fold += 1"
   ]
  },
  {
   "cell_type": "code",
   "execution_count": 25,
   "metadata": {},
   "outputs": [],
   "source": [
    "import itertools\n",
    "import matplotlib.pylab as plt\n",
    "def plot_confusion_matrix(cm, classes,\n",
    "                          normalize=False,\n",
    "                          title='Confusion matrix',\n",
    "                          cmap=plt.cm.Blues):\n",
    "    \"\"\"\n",
    "    This function prints and plots the confusion matrix.\n",
    "    Normalization can be applied by setting `normalize=True`.\n",
    "    \"\"\"\n",
    "    if normalize:\n",
    "        cm = cm.astype('float') / cm.sum(axis=1)[:, np.newaxis]\n",
    "    plt.imshow(cm, interpolation='nearest', cmap=cmap)\n",
    "    plt.title(title)\n",
    "    plt.colorbar()\n",
    "    tick_marks = np.arange(len(classes))\n",
    "    plt.xticks(tick_marks, classes, rotation=45)\n",
    "    plt.yticks(tick_marks, classes)\n",
    "\n",
    "    fmt = '.2f' if normalize else 'd'\n",
    "    thresh = cm.max() / 2.\n",
    "    for i, j in itertools.product(range(cm.shape[0]), range(cm.shape[1])):\n",
    "        plt.text(j, i, format(cm[i, j], fmt),\n",
    "                 horizontalalignment=\"center\",\n",
    "                 color=\"white\" if cm[i, j] > thresh else \"black\")\n",
    "\n",
    "    plt.tight_layout()\n",
    "    plt.ylabel('True label')\n",
    "    plt.xlabel('Predicted label')\n",
    "    plt.show()"
   ]
  },
  {
   "cell_type": "code",
   "execution_count": 26,
   "metadata": {},
   "outputs": [
    {
     "data": {
      "image/png": "[encoded data removed]",
      "text/plain": [
       "<Figure size 432x288 with 2 Axes>"
      ]
     },
     "metadata": {
      "needs_background": "light"
     },
     "output_type": "display_data"
    }
   ],
   "source": [
    "from sklearn.metrics import confusion_matrix\n",
    "\n",
    "val_preds = model.predict(x_test)\n",
    "val_preds = np.where(val_preds > 0.5, 1, 0)\n",
    "\n",
    "conf_matrix = confusion_matrix(y_test[:,1], val_preds[:,1])\n",
    "plot_confusion_matrix(conf_matrix, [\"disapproved\", \"approved\"])"
   ]
  },
  {
   "cell_type": "code",
   "execution_count": 27,
   "metadata": {},
   "outputs": [
    {
     "name": "stdout",
     "output_type": "stream",
     "text": [
      "ROC AUC SCORE: 0.936895319445655\n",
      "\n",
      "\n",
      "Classification report: \n",
      "\n",
      "              precision    recall  f1-score   support\n",
      "\n",
      "           0       0.92      0.96      0.94       154\n",
      "           1       0.96      0.91      0.93       149\n",
      "\n",
      "    accuracy                           0.94       303\n",
      "   macro avg       0.94      0.94      0.94       303\n",
      "weighted avg       0.94      0.94      0.94       303\n",
      "\n"
     ]
    }
   ],
   "source": [
    "from sklearn.metrics import roc_auc_score, classification_report\n",
    "print(f\"ROC AUC SCORE: {roc_auc_score(y_test[:,1], val_preds[:,1])}\")\n",
    "print(\"\\n\"*2+\"Classification report: \\n\")\n",
    "print(classification_report(y_test[:,1], val_preds[:,1]))"
   ]
  },
  {
   "cell_type": "markdown",
   "metadata": {},
   "source": [
    "# Some tests"
   ]
  },
  {
   "cell_type": "code",
   "execution_count": 28,
   "metadata": {},
   "outputs": [
    {
     "name": "stdout",
     "output_type": "stream",
     "text": [
      "Disapproved: 0.0\n",
      "Approved: 1.0\n"
     ]
    }
   ],
   "source": [
    "positive = processor.transform(['Me parece interesante lo que dice el post. Esta genial!'])\n",
    "positive_preds = model.predict(positive)\n",
    "\n",
    "print(\"Disapproved: {}\".format(round(positive_preds[0][0])))\n",
    "print(\"Approved: {}\".format(round(positive_preds[0][1])))"
   ]
  },
  {
   "cell_type": "code",
   "execution_count": 29,
   "metadata": {},
   "outputs": [
    {
     "name": "stdout",
     "output_type": "stream",
     "text": [
      "Disapproved: 0.0\n",
      "Approved: 1.0\n"
     ]
    }
   ],
   "source": [
    "positive_2 = processor.transform(['es un buen post. Muy interesante e informativo.'])\n",
    "positive_2_preds = model.predict(positive_2)\n",
    "\n",
    "print(\"Disapproved: {}\".format(round(positive_2_preds[0][0])))\n",
    "print(\"Approved: {}\".format(round(positive_2_preds[0][1])))"
   ]
  },
  {
   "cell_type": "code",
   "execution_count": 30,
   "metadata": {},
   "outputs": [
    {
     "name": "stdout",
     "output_type": "stream",
     "text": [
      "Disapproved: 1.0\n",
      "Approved: 0.0\n"
     ]
    }
   ],
   "source": [
    "negative = processor.transform(['desastroso nadie me atiende el telefono'])\n",
    "negative_preds = model.predict(negative)\n",
    "\n",
    "print(\"Disapproved: {}\".format(round(negative_preds[0][0])))\n",
    "print(\"Approved: {}\".format(round(negative_preds[0][1])))"
   ]
  },
  {
   "cell_type": "code",
   "execution_count": 31,
   "metadata": {},
   "outputs": [
    {
     "name": "stdout",
     "output_type": "stream",
     "text": [
      "Disapproved: 1.0\n",
      "Approved: 0.0\n"
     ]
    }
   ],
   "source": [
    "light_negative = processor.transform(['La verdad que este seguro deja mucho que desear.'])\n",
    "light_negative_preds = model.predict(light_negative)\n",
    "\n",
    "print(\"Disapproved: {}\".format(round(light_negative_preds[0][0])))\n",
    "print(\"Approved: {}\".format(round(light_negative_preds[0][1])))"
   ]
  },
  {
   "cell_type": "code",
   "execution_count": 32,
   "metadata": {},
   "outputs": [
    {
     "name": "stdout",
     "output_type": "stream",
     "text": [
      "Disapproved: 1.0\n",
      "Approved: 0.0\n"
     ]
    }
   ],
   "source": [
    "insult = processor.transform(['Me parece muy buen articulo la verdad que me gusto lo recomiendo. Hijos de puta'])\n",
    "insult_preds = model.predict(insult)\n",
    "\n",
    "print(\"Disapproved: {}\".format(round(insult_preds[0][0])))\n",
    "print(\"Approved: {}\".format(round(insult_preds[0][1])))"
   ]
  },
  {
   "cell_type": "code",
   "execution_count": 33,
   "metadata": {},
   "outputs": [
    {
     "name": "stdout",
     "output_type": "stream",
     "text": [
      "Disapproved: 1.0\n",
      "Approved: 0.0\n"
     ]
    }
   ],
   "source": [
    "advertising = processor.transform(['ESTAS BUSCANDO UN SEGURO PARA TU AUTO? EN CUCHUFLAI SEGUROS PODEMOS AYUDARTE. CONTACTATE CONMIGO VIA WHATSAPP A 35120382'])\n",
    "advertising_preds = model.predict(advertising)\n",
    "\n",
    "print(\"Disapproved: {}\".format(round(advertising_preds[0][0])))\n",
    "print(\"Approved: {}\".format(round(advertising_preds[0][1])))"
   ]
  }
 ],
 "metadata": {
  "kernelspec": {
   "display_name": "Python 3",
   "language": "python",
   "name": "python3"
  },
  "language_info": {
   "codemirror_mode": {
    "name": "ipython",
    "version": 3
   },
   "file_extension": ".py",
   "mimetype": "text/x-python",
   "name": "python",
   "nbconvert_exporter": "python",
   "pygments_lexer": "ipython3",
   "version": "3.7.6"
  }
 },
 "nbformat": 4,
 "nbformat_minor": 4
}
